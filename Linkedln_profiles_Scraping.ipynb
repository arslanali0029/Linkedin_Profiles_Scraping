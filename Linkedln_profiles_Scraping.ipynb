{
 "cells": [
  {
   "cell_type": "markdown",
   "metadata": {},
   "source": [
    "# Importing the required libraries"
   ]
  },
  {
   "cell_type": "code",
   "execution_count": null,
   "metadata": {},
   "outputs": [],
   "source": [
    "from selenium import webdriver\n",
    "from selenium.webdriver.common.keys import Keys\n",
    "from bs4 import BeautifulSoup\n",
    "import pandas as pd\n",
    "import time"
   ]
  },
  {
   "cell_type": "markdown",
   "metadata": {},
   "source": [
    "# This below function login the linkedin profile with email and password required\n",
    " Write the Email address at **bexample@yahoo/gmail/hotmail.com\n",
    " \n",
    " Write the Email address at  "
   ]
  },
  {
   "cell_type": "code",
   "execution_count": null,
   "metadata": {},
   "outputs": [],
   "source": [
    "driver = webdriver.Chrome(r'C:\\Users\\UsersName\\Documents\\ChromeDriver\\chromedriver.exe')\n",
    "def login():\n",
    "    driver.get('https://www.linkedin.com/uas/login?goback=&trk=hb_signin')\n",
    "    driver.maximize_window()\n",
    "    email = driver.find_element_by_xpath('//*[@id=\"username\"]')\n",
    "    email.send_keys('example@yahoo/gmail/hotmail.com')\n",
    "\n",
    "    time.sleep(3)\n",
    "\n",
    "    password = driver.find_element_by_xpath('//*[@id=\"password\"]')\n",
    "    password.send_keys('*********')\n",
    "\n",
    "    #time.sleep(3)\n",
    "\n",
    "    login = driver.find_element_by_xpath('//*[@id=\"app__container\"]/main/div/form/div[3]/button')\n",
    "    login.click()\n",
    "\n",
    "    #time.sleep(3)\n",
    "    return driver"
   ]
  }
 ],
 "metadata": {
  "kernelspec": {
   "display_name": "Python 3",
   "language": "python",
   "name": "python3"
  },
  "language_info": {
   "codemirror_mode": {
    "name": "ipython",
    "version": 3
   },
   "file_extension": ".py",
   "mimetype": "text/x-python",
   "name": "python",
   "nbconvert_exporter": "python",
   "pygments_lexer": "ipython3",
   "version": "3.7.1"
  }
 },
 "nbformat": 4,
 "nbformat_minor": 2
}
